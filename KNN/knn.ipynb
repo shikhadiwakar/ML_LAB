{
 "cells": [
  {
   "cell_type": "code",
   "execution_count": 12,
   "metadata": {},
   "outputs": [
    {
     "name": "stdout",
     "output_type": "stream",
     "text": [
      "C:\\Users\\shkhd\\OneDrive\\Documents\\GitHub\\ML_LAB\\KNN\\breast-cancer-wisconsin.data.txt\n",
      "C:\\Users\\shkhd\\OneDrive\\Documents\\GitHub\\ML_LAB\\KNN\\knn.ipynb\n"
     ]
    }
   ],
   "source": [
    "import numpy as np\n",
    "import pandas as pd\n",
    "import matplotlib.pyplot as plt\n",
    "import seaborn as sns\n",
    "from sklearn.linear_model import LogisticRegression\n",
    "from sklearn.model_selection import train_test_split\n",
    "import os\n",
    "for dirname, _, filenames in os.walk('C:\\\\Users\\\\shkhd\\\\OneDrive\\\\Documents\\\\GitHub\\\\ML_LAB\\\\KNN'):\n",
    "    for filename in filenames:\n",
    "        print(os.path.join(dirname, filename))"
   ]
  },
  {
   "cell_type": "code",
   "execution_count": 13,
   "metadata": {},
   "outputs": [],
   "source": [
    "import warnings\n",
    "warnings.filterwarnings('ignore')"
   ]
  },
  {
   "cell_type": "code",
   "execution_count": 14,
   "metadata": {},
   "outputs": [],
   "source": [
    "data = 'C:\\\\Users\\\\shkhd\\\\OneDrive\\\\Documents\\\\GitHub\\\\ML_LAB\\\\KNN\\\\breast-cancer-wisconsin.data.txt'\n",
    "df = pd.read_csv(data, header=None)"
   ]
  },
  {
   "cell_type": "code",
   "execution_count": 15,
   "metadata": {},
   "outputs": [
    {
     "data": {
      "text/plain": [
       "(700, 11)"
      ]
     },
     "execution_count": 15,
     "metadata": {},
     "output_type": "execute_result"
    }
   ],
   "source": [
    "df.shape"
   ]
  },
  {
   "cell_type": "code",
   "execution_count": 16,
   "metadata": {},
   "outputs": [
    {
     "data": {
      "text/html": [
       "<div>\n",
       "<style scoped>\n",
       "    .dataframe tbody tr th:only-of-type {\n",
       "        vertical-align: middle;\n",
       "    }\n",
       "\n",
       "    .dataframe tbody tr th {\n",
       "        vertical-align: top;\n",
       "    }\n",
       "\n",
       "    .dataframe thead th {\n",
       "        text-align: right;\n",
       "    }\n",
       "</style>\n",
       "<table border=\"1\" class=\"dataframe\">\n",
       "  <thead>\n",
       "    <tr style=\"text-align: right;\">\n",
       "      <th></th>\n",
       "      <th>0</th>\n",
       "      <th>1</th>\n",
       "      <th>2</th>\n",
       "      <th>3</th>\n",
       "      <th>4</th>\n",
       "      <th>5</th>\n",
       "      <th>6</th>\n",
       "      <th>7</th>\n",
       "      <th>8</th>\n",
       "      <th>9</th>\n",
       "      <th>10</th>\n",
       "    </tr>\n",
       "  </thead>\n",
       "  <tbody>\n",
       "    <tr>\n",
       "      <th>0</th>\n",
       "      <td>id</td>\n",
       "      <td>clump_thickness</td>\n",
       "      <td>unif_cell_size</td>\n",
       "      <td>unif_cell_shape</td>\n",
       "      <td>marg_adhesion</td>\n",
       "      <td>single_epith_cell_size</td>\n",
       "      <td>bare_nuclei</td>\n",
       "      <td>bland_chrom</td>\n",
       "      <td>norm_nucleoli</td>\n",
       "      <td>mitoses</td>\n",
       "      <td>class</td>\n",
       "    </tr>\n",
       "    <tr>\n",
       "      <th>1</th>\n",
       "      <td>1000025</td>\n",
       "      <td>5</td>\n",
       "      <td>1</td>\n",
       "      <td>1</td>\n",
       "      <td>1</td>\n",
       "      <td>2</td>\n",
       "      <td>1</td>\n",
       "      <td>3</td>\n",
       "      <td>1</td>\n",
       "      <td>1</td>\n",
       "      <td>2</td>\n",
       "    </tr>\n",
       "    <tr>\n",
       "      <th>2</th>\n",
       "      <td>1002945</td>\n",
       "      <td>5</td>\n",
       "      <td>4</td>\n",
       "      <td>4</td>\n",
       "      <td>5</td>\n",
       "      <td>7</td>\n",
       "      <td>10</td>\n",
       "      <td>3</td>\n",
       "      <td>2</td>\n",
       "      <td>1</td>\n",
       "      <td>2</td>\n",
       "    </tr>\n",
       "    <tr>\n",
       "      <th>3</th>\n",
       "      <td>1015425</td>\n",
       "      <td>3</td>\n",
       "      <td>1</td>\n",
       "      <td>1</td>\n",
       "      <td>1</td>\n",
       "      <td>2</td>\n",
       "      <td>2</td>\n",
       "      <td>3</td>\n",
       "      <td>1</td>\n",
       "      <td>1</td>\n",
       "      <td>2</td>\n",
       "    </tr>\n",
       "    <tr>\n",
       "      <th>4</th>\n",
       "      <td>1016277</td>\n",
       "      <td>6</td>\n",
       "      <td>8</td>\n",
       "      <td>8</td>\n",
       "      <td>1</td>\n",
       "      <td>3</td>\n",
       "      <td>4</td>\n",
       "      <td>3</td>\n",
       "      <td>7</td>\n",
       "      <td>1</td>\n",
       "      <td>2</td>\n",
       "    </tr>\n",
       "  </tbody>\n",
       "</table>\n",
       "</div>"
      ],
      "text/plain": [
       "        0                1               2                3              4   \\\n",
       "0       id  clump_thickness  unif_cell_size  unif_cell_shape  marg_adhesion   \n",
       "1  1000025                5               1                1              1   \n",
       "2  1002945                5               4                4              5   \n",
       "3  1015425                3               1                1              1   \n",
       "4  1016277                6               8                8              1   \n",
       "\n",
       "                       5            6            7              8        9   \\\n",
       "0  single_epith_cell_size  bare_nuclei  bland_chrom  norm_nucleoli  mitoses   \n",
       "1                       2            1            3              1        1   \n",
       "2                       7           10            3              2        1   \n",
       "3                       2            2            3              1        1   \n",
       "4                       3            4            3              7        1   \n",
       "\n",
       "      10  \n",
       "0  class  \n",
       "1      2  \n",
       "2      2  \n",
       "3      2  \n",
       "4      2  "
      ]
     },
     "execution_count": 16,
     "metadata": {},
     "output_type": "execute_result"
    }
   ],
   "source": [
    "df.head()"
   ]
  },
  {
   "cell_type": "code",
   "execution_count": 17,
   "metadata": {},
   "outputs": [
    {
     "data": {
      "text/plain": [
       "Index(['Id', 'Clump_thickness', 'Uniformity_Cell_Size',\n",
       "       'Uniformity_Cell_Shape', 'Marginal_Adhesion',\n",
       "       'Single_Epithelial_Cell_Size', 'Bare_Nuclei', 'Bland_Chromatin',\n",
       "       'Normal_Nucleoli', 'Mitoses', 'Class'],\n",
       "      dtype='object')"
      ]
     },
     "execution_count": 17,
     "metadata": {},
     "output_type": "execute_result"
    }
   ],
   "source": [
    "col_names = ['Id', 'Clump_thickness', 'Uniformity_Cell_Size', 'Uniformity_Cell_Shape', 'Marginal_Adhesion', 'Single_Epithelial_Cell_Size', 'Bare_Nuclei', 'Bland_Chromatin', 'Normal_Nucleoli', 'Mitoses', 'Class']\n",
    "df.columns = col_names\n",
    "df.columns"
   ]
  },
  {
   "cell_type": "code",
   "execution_count": 18,
   "metadata": {},
   "outputs": [
    {
     "data": {
      "text/html": [
       "<div>\n",
       "<style scoped>\n",
       "    .dataframe tbody tr th:only-of-type {\n",
       "        vertical-align: middle;\n",
       "    }\n",
       "\n",
       "    .dataframe tbody tr th {\n",
       "        vertical-align: top;\n",
       "    }\n",
       "\n",
       "    .dataframe thead th {\n",
       "        text-align: right;\n",
       "    }\n",
       "</style>\n",
       "<table border=\"1\" class=\"dataframe\">\n",
       "  <thead>\n",
       "    <tr style=\"text-align: right;\">\n",
       "      <th></th>\n",
       "      <th>Id</th>\n",
       "      <th>Clump_thickness</th>\n",
       "      <th>Uniformity_Cell_Size</th>\n",
       "      <th>Uniformity_Cell_Shape</th>\n",
       "      <th>Marginal_Adhesion</th>\n",
       "      <th>Single_Epithelial_Cell_Size</th>\n",
       "      <th>Bare_Nuclei</th>\n",
       "      <th>Bland_Chromatin</th>\n",
       "      <th>Normal_Nucleoli</th>\n",
       "      <th>Mitoses</th>\n",
       "      <th>Class</th>\n",
       "    </tr>\n",
       "  </thead>\n",
       "  <tbody>\n",
       "    <tr>\n",
       "      <th>0</th>\n",
       "      <td>id</td>\n",
       "      <td>clump_thickness</td>\n",
       "      <td>unif_cell_size</td>\n",
       "      <td>unif_cell_shape</td>\n",
       "      <td>marg_adhesion</td>\n",
       "      <td>single_epith_cell_size</td>\n",
       "      <td>bare_nuclei</td>\n",
       "      <td>bland_chrom</td>\n",
       "      <td>norm_nucleoli</td>\n",
       "      <td>mitoses</td>\n",
       "      <td>class</td>\n",
       "    </tr>\n",
       "    <tr>\n",
       "      <th>1</th>\n",
       "      <td>1000025</td>\n",
       "      <td>5</td>\n",
       "      <td>1</td>\n",
       "      <td>1</td>\n",
       "      <td>1</td>\n",
       "      <td>2</td>\n",
       "      <td>1</td>\n",
       "      <td>3</td>\n",
       "      <td>1</td>\n",
       "      <td>1</td>\n",
       "      <td>2</td>\n",
       "    </tr>\n",
       "    <tr>\n",
       "      <th>2</th>\n",
       "      <td>1002945</td>\n",
       "      <td>5</td>\n",
       "      <td>4</td>\n",
       "      <td>4</td>\n",
       "      <td>5</td>\n",
       "      <td>7</td>\n",
       "      <td>10</td>\n",
       "      <td>3</td>\n",
       "      <td>2</td>\n",
       "      <td>1</td>\n",
       "      <td>2</td>\n",
       "    </tr>\n",
       "    <tr>\n",
       "      <th>3</th>\n",
       "      <td>1015425</td>\n",
       "      <td>3</td>\n",
       "      <td>1</td>\n",
       "      <td>1</td>\n",
       "      <td>1</td>\n",
       "      <td>2</td>\n",
       "      <td>2</td>\n",
       "      <td>3</td>\n",
       "      <td>1</td>\n",
       "      <td>1</td>\n",
       "      <td>2</td>\n",
       "    </tr>\n",
       "    <tr>\n",
       "      <th>4</th>\n",
       "      <td>1016277</td>\n",
       "      <td>6</td>\n",
       "      <td>8</td>\n",
       "      <td>8</td>\n",
       "      <td>1</td>\n",
       "      <td>3</td>\n",
       "      <td>4</td>\n",
       "      <td>3</td>\n",
       "      <td>7</td>\n",
       "      <td>1</td>\n",
       "      <td>2</td>\n",
       "    </tr>\n",
       "  </tbody>\n",
       "</table>\n",
       "</div>"
      ],
      "text/plain": [
       "        Id  Clump_thickness Uniformity_Cell_Size Uniformity_Cell_Shape  \\\n",
       "0       id  clump_thickness       unif_cell_size       unif_cell_shape   \n",
       "1  1000025                5                    1                     1   \n",
       "2  1002945                5                    4                     4   \n",
       "3  1015425                3                    1                     1   \n",
       "4  1016277                6                    8                     8   \n",
       "\n",
       "  Marginal_Adhesion Single_Epithelial_Cell_Size  Bare_Nuclei Bland_Chromatin  \\\n",
       "0     marg_adhesion      single_epith_cell_size  bare_nuclei     bland_chrom   \n",
       "1                 1                           2            1               3   \n",
       "2                 5                           7           10               3   \n",
       "3                 1                           2            2               3   \n",
       "4                 1                           3            4               3   \n",
       "\n",
       "  Normal_Nucleoli  Mitoses  Class  \n",
       "0   norm_nucleoli  mitoses  class  \n",
       "1               1        1      2  \n",
       "2               2        1      2  \n",
       "3               1        1      2  \n",
       "4               7        1      2  "
      ]
     },
     "execution_count": 18,
     "metadata": {},
     "output_type": "execute_result"
    }
   ],
   "source": [
    "df.head()"
   ]
  },
  {
   "cell_type": "code",
   "execution_count": 19,
   "metadata": {},
   "outputs": [],
   "source": [
    "df.drop('Id', axis=1, inplace=True)"
   ]
  },
  {
   "cell_type": "code",
   "execution_count": 20,
   "metadata": {},
   "outputs": [
    {
     "name": "stdout",
     "output_type": "stream",
     "text": [
      "<class 'pandas.core.frame.DataFrame'>\n",
      "RangeIndex: 700 entries, 0 to 699\n",
      "Data columns (total 10 columns):\n",
      " #   Column                       Non-Null Count  Dtype \n",
      "---  ------                       --------------  ----- \n",
      " 0   Clump_thickness              700 non-null    object\n",
      " 1   Uniformity_Cell_Size         700 non-null    object\n",
      " 2   Uniformity_Cell_Shape        700 non-null    object\n",
      " 3   Marginal_Adhesion            700 non-null    object\n",
      " 4   Single_Epithelial_Cell_Size  700 non-null    object\n",
      " 5   Bare_Nuclei                  700 non-null    object\n",
      " 6   Bland_Chromatin              700 non-null    object\n",
      " 7   Normal_Nucleoli              700 non-null    object\n",
      " 8   Mitoses                      700 non-null    object\n",
      " 9   Class                        700 non-null    object\n",
      "dtypes: object(10)\n",
      "memory usage: 54.8+ KB\n"
     ]
    }
   ],
   "source": [
    "df.info()"
   ]
  },
  {
   "cell_type": "code",
   "execution_count": 21,
   "metadata": {},
   "outputs": [
    {
     "name": "stdout",
     "output_type": "stream",
     "text": [
      "1                  145\n",
      "5                  130\n",
      "3                  108\n",
      "4                   80\n",
      "10                  69\n",
      "2                   50\n",
      "8                   46\n",
      "6                   34\n",
      "7                   23\n",
      "9                   14\n",
      "clump_thickness      1\n",
      "Name: Clump_thickness, dtype: int64\n",
      "1                 384\n",
      "10                 67\n",
      "3                  52\n",
      "2                  45\n",
      "4                  40\n",
      "5                  30\n",
      "8                  29\n",
      "6                  27\n",
      "7                  19\n",
      "9                   6\n",
      "unif_cell_size      1\n",
      "Name: Uniformity_Cell_Size, dtype: int64\n",
      "1                  353\n",
      "2                   59\n",
      "10                  58\n",
      "3                   56\n",
      "4                   44\n",
      "5                   34\n",
      "6                   30\n",
      "7                   30\n",
      "8                   28\n",
      "9                    7\n",
      "unif_cell_shape      1\n",
      "Name: Uniformity_Cell_Shape, dtype: int64\n",
      "1                407\n",
      "3                 58\n",
      "2                 58\n",
      "10                55\n",
      "4                 33\n",
      "8                 25\n",
      "5                 23\n",
      "6                 22\n",
      "7                 13\n",
      "9                  5\n",
      "marg_adhesion      1\n",
      "Name: Marginal_Adhesion, dtype: int64\n",
      "2                         386\n",
      "3                          72\n",
      "4                          48\n",
      "1                          47\n",
      "6                          41\n",
      "5                          39\n",
      "10                         31\n",
      "8                          21\n",
      "7                          12\n",
      "9                           2\n",
      "single_epith_cell_size      1\n",
      "Name: Single_Epithelial_Cell_Size, dtype: int64\n",
      "1              402\n",
      "10             132\n",
      "2               30\n",
      "5               30\n",
      "3               28\n",
      "8               21\n",
      "4               19\n",
      "?               16\n",
      "9                9\n",
      "7                8\n",
      "6                4\n",
      "bare_nuclei      1\n",
      "Name: Bare_Nuclei, dtype: int64\n",
      "2              166\n",
      "3              165\n",
      "1              152\n",
      "7               73\n",
      "4               40\n",
      "5               34\n",
      "8               28\n",
      "10              20\n",
      "9               11\n",
      "6               10\n",
      "bland_chrom      1\n",
      "Name: Bland_Chromatin, dtype: int64\n",
      "1                443\n",
      "10                61\n",
      "3                 44\n",
      "2                 36\n",
      "8                 24\n",
      "6                 22\n",
      "5                 19\n",
      "4                 18\n",
      "7                 16\n",
      "9                 16\n",
      "norm_nucleoli      1\n",
      "Name: Normal_Nucleoli, dtype: int64\n",
      "1          579\n",
      "2           35\n",
      "3           33\n",
      "10          14\n",
      "4           12\n",
      "7            9\n",
      "8            8\n",
      "5            6\n",
      "6            3\n",
      "mitoses      1\n",
      "Name: Mitoses, dtype: int64\n",
      "2        458\n",
      "4        241\n",
      "class      1\n",
      "Name: Class, dtype: int64\n"
     ]
    }
   ],
   "source": [
    "for var in df.columns: \n",
    "    print(df[var].value_counts())"
   ]
  },
  {
   "cell_type": "code",
   "execution_count": 22,
   "metadata": {},
   "outputs": [],
   "source": [
    "df['Bare_Nuclei'] = pd.to_numeric(df['Bare_Nuclei'], errors='coerce')"
   ]
  },
  {
   "cell_type": "code",
   "execution_count": 23,
   "metadata": {},
   "outputs": [
    {
     "data": {
      "text/plain": [
       "Clump_thickness                 object\n",
       "Uniformity_Cell_Size            object\n",
       "Uniformity_Cell_Shape           object\n",
       "Marginal_Adhesion               object\n",
       "Single_Epithelial_Cell_Size     object\n",
       "Bare_Nuclei                    float64\n",
       "Bland_Chromatin                 object\n",
       "Normal_Nucleoli                 object\n",
       "Mitoses                         object\n",
       "Class                           object\n",
       "dtype: object"
      ]
     },
     "execution_count": 23,
     "metadata": {},
     "output_type": "execute_result"
    }
   ],
   "source": [
    "df.dtypes"
   ]
  },
  {
   "cell_type": "code",
   "execution_count": 24,
   "metadata": {},
   "outputs": [
    {
     "data": {
      "text/plain": [
       "Clump_thickness                 0\n",
       "Uniformity_Cell_Size            0\n",
       "Uniformity_Cell_Shape           0\n",
       "Marginal_Adhesion               0\n",
       "Single_Epithelial_Cell_Size     0\n",
       "Bare_Nuclei                    17\n",
       "Bland_Chromatin                 0\n",
       "Normal_Nucleoli                 0\n",
       "Mitoses                         0\n",
       "Class                           0\n",
       "dtype: int64"
      ]
     },
     "execution_count": 24,
     "metadata": {},
     "output_type": "execute_result"
    }
   ],
   "source": [
    "df.isnull().sum()"
   ]
  },
  {
   "cell_type": "code",
   "execution_count": 25,
   "metadata": {},
   "outputs": [
    {
     "data": {
      "text/plain": [
       "Clump_thickness                 0\n",
       "Uniformity_Cell_Size            0\n",
       "Uniformity_Cell_Shape           0\n",
       "Marginal_Adhesion               0\n",
       "Single_Epithelial_Cell_Size     0\n",
       "Bare_Nuclei                    17\n",
       "Bland_Chromatin                 0\n",
       "Normal_Nucleoli                 0\n",
       "Mitoses                         0\n",
       "Class                           0\n",
       "dtype: int64"
      ]
     },
     "execution_count": 25,
     "metadata": {},
     "output_type": "execute_result"
    }
   ],
   "source": [
    "df.isna().sum()"
   ]
  },
  {
   "cell_type": "code",
   "execution_count": 26,
   "metadata": {},
   "outputs": [
    {
     "data": {
      "text/plain": [
       "1.0     402\n",
       "10.0    132\n",
       "2.0      30\n",
       "5.0      30\n",
       "3.0      28\n",
       "8.0      21\n",
       "4.0      19\n",
       "9.0       9\n",
       "7.0       8\n",
       "6.0       4\n",
       "Name: Bare_Nuclei, dtype: int64"
      ]
     },
     "execution_count": 26,
     "metadata": {},
     "output_type": "execute_result"
    }
   ],
   "source": [
    "df['Bare_Nuclei'].value_counts()"
   ]
  },
  {
   "cell_type": "code",
   "execution_count": 34,
   "metadata": {},
   "outputs": [
    {
     "data": {
      "text/plain": [
       "array([nan,  1., 10.,  2.,  4.,  3.,  9.,  7.,  5.,  8.,  6.])"
      ]
     },
     "execution_count": 34,
     "metadata": {},
     "output_type": "execute_result"
    }
   ],
   "source": [
    "df['Bare_Nuclei'].unique()"
   ]
  },
  {
   "cell_type": "code",
   "execution_count": 35,
   "metadata": {},
   "outputs": [
    {
     "data": {
      "text/plain": [
       "17"
      ]
     },
     "execution_count": 35,
     "metadata": {},
     "output_type": "execute_result"
    }
   ],
   "source": [
    "df['Bare_Nuclei'].isna().sum()"
   ]
  },
  {
   "cell_type": "code",
   "execution_count": 52,
   "metadata": {},
   "outputs": [
    {
     "data": {
      "text/plain": [
       "2        458\n",
       "4        241\n",
       "class      1\n",
       "Name: Class, dtype: int64"
      ]
     },
     "execution_count": 52,
     "metadata": {},
     "output_type": "execute_result"
    }
   ],
   "source": [
    "df['Class'].value_counts()"
   ]
  },
  {
   "cell_type": "code",
   "execution_count": 53,
   "metadata": {},
   "outputs": [
    {
     "data": {
      "text/plain": [
       "2        0.654286\n",
       "4        0.344286\n",
       "class    0.001429\n",
       "Name: Class, dtype: float64"
      ]
     },
     "execution_count": 53,
     "metadata": {},
     "output_type": "execute_result"
    }
   ],
   "source": [
    "df['Class'].value_counts()/np.float64(len(df))"
   ]
  },
  {
   "cell_type": "code",
   "execution_count": 54,
   "metadata": {},
   "outputs": [
    {
     "name": "stdout",
     "output_type": "stream",
     "text": [
      "       Bare_Nuclei\n",
      "count       683.00\n",
      "mean          3.54\n",
      "std           3.64\n",
      "min           1.00\n",
      "25%           1.00\n",
      "50%           1.00\n",
      "75%           6.00\n",
      "max          10.00\n"
     ]
    }
   ],
   "source": [
    "print(round(df.describe(),2))"
   ]
  },
  {
   "cell_type": "code",
   "execution_count": 46,
   "metadata": {},
   "outputs": [
    {
     "data": {
      "image/png": "[encoded data removed]",
      "text/plain": [
       "<Figure size 3000x2500 with 10 Axes>"
      ]
     },
     "metadata": {},
     "output_type": "display_data"
    }
   ],
   "source": [
    "plt.rcParams['figure.figsize']=(30,25)\n",
    "\n",
    "df.plot(kind='hist', bins=10, subplots=True, layout=(5,2), sharex=False, sharey=False)\n",
    "\n",
    "plt.show()"
   ]
  }
 ],
 "metadata": {
  "kernelspec": {
   "display_name": "Python 3",
   "language": "python",
   "name": "python3"
  },
  "language_info": {
   "codemirror_mode": {
    "name": "ipython",
    "version": 3
   },
   "file_extension": ".py",
   "mimetype": "text/x-python",
   "name": "python",
   "nbconvert_exporter": "python",
   "pygments_lexer": "ipython3",
   "version": "3.9.0"
  },
  "orig_nbformat": 4
 },
 "nbformat": 4,
 "nbformat_minor": 2
}
